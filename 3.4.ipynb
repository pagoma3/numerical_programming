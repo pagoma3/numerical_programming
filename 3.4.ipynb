{
 "cells": [
  {
   "cell_type": "code",
   "execution_count": 2,
   "metadata": {},
   "outputs": [
    {
     "name": "stdout",
     "output_type": "stream",
     "text": [
      "Mitjana de l'array: 32.7 \n",
      "Rang de l'array: 96 \n",
      "Desviació estàndard: 30.626948917579107\n"
     ]
    }
   ],
   "source": [
    "import numpy as np\n",
    "\n",
    "mitjana = 0\n",
    "rang = 0\n",
    "standard = 0\n",
    "mediana = 0\n",
    "\n",
    "def stats(arr):\n",
    "    if arr.ndim > 1:\n",
    "       raise TypeError(\"Only 1-D arrays!\") \n",
    "    else:\n",
    "        global mitjana, rang, standard, mediana\n",
    "        mitjana = arr.mean()\n",
    "        rang = arr.max() - arr.min()\n",
    "        standard = np.std(arr)\n",
    "        \n",
    "exemple = np.array([12, 4, 29, 3, 99, 58, 4, 23, 68, 27])\n",
    "exemple2 = np.array([\n",
    "    [1, 2, 3],\n",
    "    [20, 39, 21]\n",
    "])\n",
    "stats(exemple)\n",
    "#stats(exemple2)\n",
    "        \n",
    "print(f\"Mitjana de l'array: {mitjana} \\nRang de l'array: {rang} \\nDesviació estàndard: {standard}\")\n",
    "    "
   ]
  },
  {
   "cell_type": "code",
   "execution_count": 47,
   "metadata": {},
   "outputs": [
    {
     "name": "stdout",
     "output_type": "stream",
     "text": [
      "Mesura del quadrat: 4\n",
      "[[40, 4, 42, 78]]\n",
      "[[60, 54, 68, 6]]\n",
      "[[15, 95, 73, 74]]\n",
      "[[6, 77, 69, 28]]\n"
     ]
    }
   ],
   "source": [
    "import random\n",
    "\n",
    "arr = []\n",
    "\n",
    "def quadrat(measure):\n",
    "    for i in range(measure):\n",
    "        dummy = []\n",
    "        for i in range(measure):\n",
    "            dummy.append(random.randint(0, 100))\n",
    "        arr.append([dummy])\n",
    "                    \n",
    "quadrat(int(input(\"Mesura del quadrat: \")))\n",
    "print(*arr, sep = \"\\n\")"
   ]
  },
  {
   "cell_type": "code",
   "execution_count": 63,
   "metadata": {
    "scrolled": true
   },
   "outputs": [
    {
     "name": "stdout",
     "output_type": "stream",
     "text": [
      "Les sumes de les files són [array([30, 30, 30, 30])], i les de les columnes [array([40, 80])]\n"
     ]
    }
   ],
   "source": [
    "dummyColumnes = []\n",
    "dummyFiles = []\n",
    "\n",
    "def calcula(whatever):\n",
    "    rows = whatever.sum(axis=0)\n",
    "    dummyFiles.append(rows)\n",
    "    columns = whatever.sum(axis=1)\n",
    "    dummyColumnes.append(columns)\n",
    "\n",
    "exemple = np.array([\n",
    "    [10, 10, 10, 10],\n",
    "    [20, 20, 20, 20]\n",
    "])\n",
    "            \n",
    "calcula(exemple)\n",
    "\n",
    "print(f\"Les sumes de les files són {dummyFiles}, i les de les columnes {dummyColumnes}\")"
   ]
  },
  {
   "cell_type": "code",
   "execution_count": 13,
   "metadata": {},
   "outputs": [
    {
     "name": "stdout",
     "output_type": "stream",
     "text": [
      "0.8534199916918634\n"
     ]
    }
   ],
   "source": [
    "def corr(par1, par2):\n",
    "    n = len(par1)\n",
    "    sumx = sum(par1)\n",
    "    sumy = sum(par2)\n",
    "    sumxy = sum(par1 * par2)\n",
    "    sum_sq_x = sum((par1)**2)\n",
    "    sum_sq_y = sum((par2)**2)\n",
    "    r = (n * sumxy - sumx * sumy) / np.sqrt( (n * sum_sq_x - sumx**2) * (n * sum_sq_y - sumy**2) )\n",
    "    return r\n",
    "\n",
    "llista1 = np.array([2, 4, 8, 16, 32, 100, 200, 1200])\n",
    "llista2 = np.array([0.1, 0.5, 2.3, 7, 3, 5, 6, 13])\n",
    "\n",
    "print(corr(llista1, llista2))\n",
    "\n",
    "# La correlació (no causació!) entre dues variables determina fins a quin punt \n",
    "# la variació en una variable explica la variació en l'altra. És útil per a molts conceptes d'estadística a l'hora \n",
    "# d'evaluar si dues variables estan relacionades. El coeficient de Pearson és una manera de mesurar-ho. En aquest\n",
    "# exemple, veiem una alta correlació, ja que ambdues augmenten amb patrons similars."
   ]
  }
 ],
 "metadata": {
  "kernelspec": {
   "display_name": "Python 3",
   "language": "python",
   "name": "python3"
  },
  "language_info": {
   "codemirror_mode": {
    "name": "ipython",
    "version": 3
   },
   "file_extension": ".py",
   "mimetype": "text/x-python",
   "name": "python",
   "nbconvert_exporter": "python",
   "pygments_lexer": "ipython3",
   "version": "3.8.5"
  }
 },
 "nbformat": 4,
 "nbformat_minor": 4
}
