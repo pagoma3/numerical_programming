{
 "cells": [
  {
   "cell_type": "markdown",
   "metadata": {},
   "source": [
    "# Sprint 3, Task 4\n",
    "\n",
    "## Exercise 1\n",
    "\n",
    "Create a function so that given a 1-D array, you obtain a basic statistical resume of the data. If it detects that the array has more than one dimension, it must return an Error message.\n"
   ]
  },
  {
   "cell_type": "code",
   "execution_count": 7,
   "metadata": {
    "ExecuteTime": {
     "end_time": "2021-10-04T12:20:20.285580Z",
     "start_time": "2021-10-04T12:20:20.273750Z"
    }
   },
   "outputs": [
    {
     "name": "stdout",
     "output_type": "stream",
     "text": [
      "Array Average: 32.7\n",
      "Array Median: 25.0\n",
      "Array Range: 96\n",
      "Standard Deviation: 30.626948917579107\n"
     ]
    }
   ],
   "source": [
    "import numpy as np\n",
    "\n",
    "def stats(arr):\n",
    "    if arr.ndim > 1:\n",
    "        \n",
    "       # raise an error if more than one dimension\n",
    "    \n",
    "       raise TypeError(\"Only 1-D arrays!\")\n",
    "        \n",
    "    else: \n",
    "        \n",
    "        average = arr.mean()\n",
    "        arr_range = arr.max() - arr.min()\n",
    "        standard = np.std(arr)\n",
    "        median = np.median(arr)\n",
    "        \n",
    "        return average, arr_range, standard, median\n",
    "        \n",
    "exemple = np.array([12, 4, 29, 3, 99, 58, 4, 23, 68, 27])\n",
    "\n",
    "average, arr_range, standard, median = stats(exemple)\n",
    "        \n",
    "print(f\"Array Average: {average}\") \n",
    "\n",
    "print(f\"Array Median: {median}\")\n",
    "    \n",
    "print(f\"Array Range: {arr_range}\")\n",
    "      \n",
    "print(f\"Standard Deviation: {standard}\")"
   ]
  },
  {
   "cell_type": "code",
   "execution_count": 8,
   "metadata": {
    "ExecuteTime": {
     "end_time": "2021-10-04T12:20:49.994435Z",
     "start_time": "2021-10-04T12:20:49.989157Z"
    }
   },
   "outputs": [],
   "source": [
    "# This code returns a TypeError since it should only have one dimension:\n",
    "\n",
    "exemple2 = np.array([\n",
    "    [1, 2, 3],\n",
    "    [20, 39, 21]\n",
    "])\n",
    "\n",
    "#stats(exemple2)"
   ]
  },
  {
   "cell_type": "markdown",
   "metadata": {},
   "source": [
    "## Exercise 2\n",
    "\n",
    "Create a function that generates a NxN square of random nnumbers between 0 and 100.\n"
   ]
  },
  {
   "cell_type": "code",
   "execution_count": 11,
   "metadata": {
    "ExecuteTime": {
     "end_time": "2021-10-04T12:23:27.481541Z",
     "start_time": "2021-10-04T12:23:26.180801Z"
    }
   },
   "outputs": [
    {
     "name": "stdout",
     "output_type": "stream",
     "text": [
      "Mesura del quadrat: 5\n",
      "[[51, 100, 71, 68, 6]]\n",
      "[[80, 65, 18, 96, 77]]\n",
      "[[10, 99, 40, 77, 28]]\n",
      "[[35, 53, 66, 60, 63]]\n",
      "[[11, 55, 21, 21, 49]]\n"
     ]
    }
   ],
   "source": [
    "##### import random\n",
    "\n",
    "arr = []\n",
    "\n",
    "def square(measure):\n",
    "    for i in range(measure):\n",
    "        dummy = []\n",
    "        for i in range(measure):\n",
    "            dummy.append(random.randint(0, 100))\n",
    "        arr.append([dummy])\n",
    "          \n",
    "# User input determines square shape:\n",
    "square(int(input(\"Square shape: \")))\n",
    "\n",
    "print(*arr, sep = \"\\n\")"
   ]
  },
  {
   "cell_type": "markdown",
   "metadata": {},
   "source": [
    "## Exercise 3\n",
    "\n",
    "Create a function in which, given a 2-D table, calculates row and column totals.\n"
   ]
  },
  {
   "cell_type": "code",
   "execution_count": 14,
   "metadata": {
    "ExecuteTime": {
     "end_time": "2021-10-04T12:42:15.319312Z",
     "start_time": "2021-10-04T12:42:15.298671Z"
    },
    "scrolled": true
   },
   "outputs": [
    {
     "name": "stdout",
     "output_type": "stream",
     "text": [
      "Row totals are [40 80], column totals are [30 30 30 30]\n"
     ]
    }
   ],
   "source": [
    "\n",
    "def calculate(whatever):\n",
    "    columns = whatever.sum(axis=0)\n",
    "    rows = whatever.sum(axis=1)\n",
    "    return rows, columns\n",
    "\n",
    "example = np.array([\n",
    "    [10, 10, 10, 10],\n",
    "    [20, 20, 20, 20]\n",
    "])\n",
    "            \n",
    "rows, columns = calculate(example)\n",
    "\n",
    "print(f\"Row totals are {rows}, column totals are {columns}\")"
   ]
  },
  {
   "cell_type": "markdown",
   "metadata": {},
   "source": [
    "## Exercise 4\n",
    "\n",
    "Manually implement a function that calculates the correlation coefficient. Get informed about its uses and interpretation.\n"
   ]
  },
  {
   "cell_type": "code",
   "execution_count": 15,
   "metadata": {
    "ExecuteTime": {
     "end_time": "2021-10-04T12:45:54.797755Z",
     "start_time": "2021-10-04T12:45:54.783086Z"
    }
   },
   "outputs": [
    {
     "name": "stdout",
     "output_type": "stream",
     "text": [
      "Correlation coefficient of lists 1 & 2: 0.8534199916918634\n"
     ]
    }
   ],
   "source": [
    "def corr(par1, par2):\n",
    "    \n",
    "    # Get array lenght\n",
    "    n = len(par1)\n",
    "    \n",
    "    # Get array sums:\n",
    "    sumx = sum(par1)\n",
    "    sumy = sum(par2)\n",
    "    \n",
    "    # Sum of x*y\n",
    "    sumxy = sum(par1 * par2)\n",
    "    \n",
    "    # Sum of squared x and y\n",
    "    sum_sq_x = sum((par1)**2)\n",
    "    sum_sq_y = sum((par2)**2)\n",
    "    \n",
    "    # Correlation formula:\n",
    "    r = (n * sumxy - sumx * sumy) / np.sqrt( (n * sum_sq_x - sumx**2) * (n * sum_sq_y - sumy**2) )\n",
    "    return r\n",
    "\n",
    "llista1 = np.array([2, 4, 8, 16, 32, 100, 200, 1200])\n",
    "llista2 = np.array([0.1, 0.5, 2.3, 7, 3, 5, 6, 13])\n",
    "\n",
    "print(\"Correlation coefficient of lists 1 & 2: \" + str(corr(llista1, llista2)))\n"
   ]
  },
  {
   "cell_type": "code",
   "execution_count": null,
   "metadata": {},
   "outputs": [],
   "source": [
    "# Correlation (not causation) between two variables determines to what extent the variance in one variable can be\n",
    "# explained by the variance of another variable. It is useful for many statistical concepts to determine whether \n",
    "# two variables are related or not. The Pearson coefficient is a common way of measuring this. In this example a\n",
    "# high correlation can be seen since both variables augment in a similar manner."
   ]
  }
 ],
 "metadata": {
  "kernelspec": {
   "display_name": "Python 3",
   "language": "python",
   "name": "python3"
  },
  "language_info": {
   "codemirror_mode": {
    "name": "ipython",
    "version": 3
   },
   "file_extension": ".py",
   "mimetype": "text/x-python",
   "name": "python",
   "nbconvert_exporter": "python",
   "pygments_lexer": "ipython3",
   "version": "3.8.8"
  },
  "varInspector": {
   "cols": {
    "lenName": 16,
    "lenType": 16,
    "lenVar": 40
   },
   "kernels_config": {
    "python": {
     "delete_cmd_postfix": "",
     "delete_cmd_prefix": "del ",
     "library": "var_list.py",
     "varRefreshCmd": "print(var_dic_list())"
    },
    "r": {
     "delete_cmd_postfix": ") ",
     "delete_cmd_prefix": "rm(",
     "library": "var_list.r",
     "varRefreshCmd": "cat(var_dic_list()) "
    }
   },
   "types_to_exclude": [
    "module",
    "function",
    "builtin_function_or_method",
    "instance",
    "_Feature"
   ],
   "window_display": false
  }
 },
 "nbformat": 4,
 "nbformat_minor": 4
}
